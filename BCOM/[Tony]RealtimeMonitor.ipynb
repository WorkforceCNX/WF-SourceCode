{
 "cells": [
  {
   "cell_type": "markdown",
   "id": "90ff704d-69ec-45fb-a045-06fcbe6ff924",
   "metadata": {},
   "source": [
    "# Start here if this is your first run today 🚀\n",
    "\n",
    "**Import the necessary raw data to obtain the most recent updates.**"
   ]
  },
  {
   "cell_type": "code",
   "execution_count": 1,
   "id": "77029e47-6f10-4899-a179-439bf82091c7",
   "metadata": {
    "editable": true,
    "jupyter": {
     "source_hidden": true
    },
    "slideshow": {
     "slide_type": ""
    },
    "tags": []
   },
   "outputs": [],
   "source": [
    "# Library list🤖\n",
    "import glob, warnings, polars as pl, datetime, sqlite3, time, os, zipfile, xml.dom.minidom\n",
    "from datetime import datetime as dt, time as t, timedelta\n",
    "import pandas as pd, numpy as np, sqlalchemy as sa, xlsxwriter\n",
    "from sqlalchemy import create_engine\n",
    "from openpyxl import Workbook\n",
    "from openpyxl.utils.dataframe import dataframe_to_rows\n",
    "from polars.exceptions import ColumnNotFoundError\n",
    "import shutil\n",
    "\n",
    "# -----------------------------------------------------------------------------------------------#\n",
    "# Source collection\n",
    "user_credential = os.path.join(os.environ['USERPROFILE'],r'Concentrix Corporation//CNXVN - WFM Team - Documents//')\n",
    "\n",
    "# INPUT-----💾-----💾-----💾-----💾-----💾-----💾-----💾-----💾-----💾-----💾\n",
    "\n",
    "# [BKN]AGENTS 0️⃣1️⃣\n",
    "Link_AGENTS = os.path.join(user_credential,\n",
    "                            r'DataBase//DataRaw//BKN//AGENTS//*.xlsx')\n",
    "# [GLB]Ramco 0️⃣2️⃣\n",
    "Link_Ramco = os.path.join(user_credential,\n",
    "                            r'DataBase//DataRaw//GLOBAL//RAMCO//*.CSV')\n",
    "# [BKN]Schedule 0️⃣3️⃣\n",
    "Link_Schedule = os.path.join(user_credential,\n",
    "                            r'DataBase//DataRaw//BKN//ROSTER//*.xlsx')\n",
    "# [BKN]IEX 0️⃣4️⃣\n",
    "Link_IEX = os.path.join(user_credential,\n",
    "                        r'DataBase//DataRaw//BKN//IEX//*.xlsx')\n",
    "# [BKN]Workplan 0️⃣5️⃣\n",
    "Link_Workplan = os.path.join(user_credential,\n",
    "                            r'DataBase//DataRaw//BKN//WORKPLAN//WORKPLAN QUERY//*.xlsx')\n",
    "# [BKN]REALTIME_CUIC 0️⃣6️⃣\n",
    "Link_REALTIME_CUIC = os.path.join(user_credential,\n",
    "                            r'DataBase//DataRaw//BKN//REALTIME_VIEW//*.xlsx')\n",
    "\n",
    "# OUTPUT-----📥-----📥-----📥-----📥-----📥-----📥-----📥-----📥-----📥-----📥\n",
    "\n",
    "# [BKN]MONITOR_DF 📑\n",
    "DF_MONITOR_DF = os.path.join(user_credential, \n",
    "                        r'DataBase//DataFrame//BKN//MONITOR_DF')\n",
    "\n",
    "# -----------------------------------------------------------------------------------------------#\n",
    "# MyMiscellaneous\n",
    "\n",
    "# [DB]TonyMiscellaneous\n",
    "Link_DB = os.path.join(os.environ['USERPROFILE'], r'Desktop//Bcom_DB.db')\n",
    "conn = create_engine(f\"sqlite:///{Link_DB}\")"
   ]
  },
  {
   "cell_type": "code",
   "execution_count": 2,
   "id": "5d78e39b-b782-479c-9636-6f7f4bed299b",
   "metadata": {
    "editable": true,
    "jupyter": {
     "source_hidden": true
    },
    "scrolled": true,
    "slideshow": {
     "slide_type": ""
    },
    "tags": []
   },
   "outputs": [
    {
     "data": {
      "text/html": [
       "<div><style>\n",
       ".dataframe > thead > tr,\n",
       ".dataframe > tbody > tr {\n",
       "  text-align: right;\n",
       "  white-space: pre-wrap;\n",
       "}\n",
       "</style>\n",
       "<small>shape: (3, 25)</small><table border=\"1\" class=\"dataframe\"><thead><tr><th>Filename</th><th>Employee_ID</th><th>GEO</th><th>Site_ID</th><th>Employee_Last_Name</th><th>Employee_First_Name</th><th>Status</th><th>Wave #</th><th>Role</th><th>Booking Login ID</th><th>Language Start Date</th><th>TED Name</th><th>CUIC Name</th><th>PST_Start_Date</th><th>Production_Start_Date</th><th>LWD</th><th>Designation</th><th>cnx_email</th><th>Booking Email</th><th>WAH Category</th><th>Full name</th><th>IEX</th><th>serial_number</th><th>BKN_ID</th><th>Extension Number</th></tr><tr><td>str</td><td>i64</td><td>str</td><td>str</td><td>str</td><td>str</td><td>str</td><td>str</td><td>str</td><td>str</td><td>date</td><td>str</td><td>str</td><td>date</td><td>date</td><td>date</td><td>str</td><td>str</td><td>str</td><td>str</td><td>str</td><td>i64</td><td>str</td><td>str</td><td>i64</td></tr></thead><tbody><tr><td>&quot;CNX Global Master Roster.xlsx&quot;</td><td>102238574</td><td>&quot;APAC&quot;</td><td>&quot;HCM4&quot;</td><td>&quot;Nguyen&quot;</td><td>&quot;Cong Thanh&quot;</td><td>&quot;Transferred&quot;</td><td>&quot;68&quot;</td><td>&quot;Agent&quot;</td><td>&quot;anguyen35&quot;</td><td>2023-05-22</td><td>&quot;Aiden Nguyen&quot;</td><td>&quot;Nguyen, Aiden&quot;</td><td>2023-05-08</td><td>2023-05-22</td><td>2024-12-18</td><td>&quot;Production&quot;</td><td>&quot;congthanh.nguyen1@concentrix.c…</td><td>&quot;aiden.nguyen@booking.com&quot;</td><td>&quot;On Site&quot;</td><td>&quot;Nguyen Cong Thanh&quot;</td><td>3064393</td><td>&quot;HCM_1334_ANGU&quot;</td><td>&quot;131311&quot;</td><td>72786566</td></tr><tr><td>&quot;CNX Global Master Roster.xlsx&quot;</td><td>102893357</td><td>&quot;APAC&quot;</td><td>&quot;HCM4&quot;</td><td>&quot;Do&quot;</td><td>&quot;Dinh Khanh&quot;</td><td>&quot;Active&quot;</td><td>&quot;139&quot;</td><td>&quot;Agent&quot;</td><td>&quot;ndo5&quot;</td><td>2024-07-23</td><td>&quot;Neexie Do&quot;</td><td>&quot;Do, Neexie&quot;</td><td>2024-07-16</td><td>2024-08-05</td><td>null</td><td>&quot;Agent&quot;</td><td>&quot;dinhkhanh.do@concentrix.com&quot;</td><td>&quot;neexie.do@booking.com&quot;</td><td>&quot;On Site&quot;</td><td>&quot;Do Dinh Khanh&quot;</td><td>3021156</td><td>&quot;HCM_2100_NDO&quot;</td><td>&quot;155909&quot;</td><td>72787230</td></tr><tr><td>&quot;CNX Global Master Roster.xlsx&quot;</td><td>102850061</td><td>&quot;APAC&quot;</td><td>&quot;HCM4&quot;</td><td>&quot;LE&quot;</td><td>&quot;MINH SANG&quot;</td><td>&quot;Termed&quot;</td><td>&quot;118&quot;</td><td>&quot;Agent&quot;</td><td>&quot;ale14&quot;</td><td>2024-05-13</td><td>&quot;Axl Le&quot;</td><td>&quot;Le, Axl&quot;</td><td>2024-05-20</td><td>2024-06-10</td><td>2024-09-15</td><td>&quot;Production&quot;</td><td>&quot;minhsang.le@concentrix.com&quot;</td><td>&quot;axl.le@booking.com&quot;</td><td>&quot;On Site&quot;</td><td>&quot;LE MINH SANG&quot;</td><td>3009169</td><td>&quot;HCM_1757_ALE&quot;</td><td>&quot;151033&quot;</td><td>72786938</td></tr></tbody></table></div>"
      ],
      "text/plain": [
       "shape: (3, 25)\n",
       "┌───────────────────┬─────────────┬──────┬─────────┬───┬─────────┬───────────────┬────────┬──────────────────┐\n",
       "│ Filename          ┆ Employee_ID ┆ GEO  ┆ Site_ID ┆ … ┆ IEX     ┆ serial_number ┆ BKN_ID ┆ Extension Number │\n",
       "│ ---               ┆ ---         ┆ ---  ┆ ---     ┆   ┆ ---     ┆ ---           ┆ ---    ┆ ---              │\n",
       "│ str               ┆ i64         ┆ str  ┆ str     ┆   ┆ i64     ┆ str           ┆ str    ┆ i64              │\n",
       "╞═══════════════════╪═════════════╪══════╪═════════╪═══╪═════════╪═══════════════╪════════╪══════════════════╡\n",
       "│ CNX Global Master ┆ 102238574   ┆ APAC ┆ HCM4    ┆ … ┆ 3064393 ┆ HCM_1334_ANGU ┆ 131311 ┆ 72786566         │\n",
       "│ Roster.xlsx       ┆             ┆      ┆         ┆   ┆         ┆               ┆        ┆                  │\n",
       "│ CNX Global Master ┆ 102893357   ┆ APAC ┆ HCM4    ┆ … ┆ 3021156 ┆ HCM_2100_NDO  ┆ 155909 ┆ 72787230         │\n",
       "│ Roster.xlsx       ┆             ┆      ┆         ┆   ┆         ┆               ┆        ┆                  │\n",
       "│ CNX Global Master ┆ 102850061   ┆ APAC ┆ HCM4    ┆ … ┆ 3009169 ┆ HCM_1757_ALE  ┆ 151033 ┆ 72786938         │\n",
       "│ Roster.xlsx       ┆             ┆      ┆         ┆   ┆         ┆               ┆        ┆                  │\n",
       "└───────────────────┴─────────────┴──────┴─────────┴───┴─────────┴───────────────┴────────┴──────────────────┘"
      ]
     },
     "execution_count": 2,
     "metadata": {},
     "output_type": "execute_result"
    }
   ],
   "source": [
    "#[BKN]Raw_Agents🎯\n",
    " \n",
    "Data_AGENTS = []\n",
    "for file in glob.glob(Link_AGENTS):\n",
    "    filename = os.path.basename(file)\n",
    "    Read = pl.read_excel(file, infer_schema_length=None,schema_overrides={\"serial_number\": pl.Utf8},engine=\"calamine\",sheet_name=\"Sheet1\")\n",
    "    AGENTS = Read.select(pl.all(), pl.lit(filename).alias(\"Filename\"))\n",
    "    Data_AGENTS.append(AGENTS)\n",
    "AGENTS = pl.concat(Data_AGENTS, how=\"diagonal\")\n",
    "\n",
    "#Edit Column\n",
    "# AGENTS = AGENTS.with_columns(pl.col('PST_Start_Date','Production_Start_Date','Language Start Date','Hire_Date','LWD','Termination_Date').dt.strftime('%Y-%m-%d'),)\n",
    "AGENTS = AGENTS.select(['Filename','Employee_ID','GEO','Site_ID','Employee_Last_Name','Employee_First_Name',\n",
    "                        'Status','Wave #','Role','Booking Login ID','Language Start Date','TED Name','CUIC Name','PST_Start_Date',\n",
    "                        'Production_Start_Date','LWD','Designation','cnx_email','Booking Email','WAH Category','Full name','IEX',\n",
    "                        'serial_number','BKN_ID','Extension Number'])\n",
    "AGENTS = AGENTS.with_columns(pl.col('Extension Number').cast(pl.Int64, strict=False))\n",
    "\n",
    "# Export to Database\n",
    "Export_AGENTS_DB = AGENTS.write_database(\"AGENTS_RAW\", f\"sqlite:///{Link_DB}\", if_table_exists=\"replace\")\n",
    "\n",
    "# #RUN\n",
    "Export_AGENTS_DB\n",
    "AGENTS.sample(n=3)"
   ]
  },
  {
   "cell_type": "code",
   "execution_count": 3,
   "id": "29083932-c1d1-4cf5-865d-d775fae135b0",
   "metadata": {
    "editable": true,
    "jupyter": {
     "source_hidden": true
    },
    "scrolled": true,
    "slideshow": {
     "slide_type": ""
    },
    "tags": []
   },
   "outputs": [
    {
     "data": {
      "text/html": [
       "<div><style>\n",
       ".dataframe > thead > tr,\n",
       ".dataframe > tbody > tr {\n",
       "  text-align: right;\n",
       "  white-space: pre-wrap;\n",
       "}\n",
       "</style>\n",
       "<small>shape: (3, 6)</small><table border=\"1\" class=\"dataframe\"><thead><tr><th>Filename</th><th>EID</th><th>Employee_Name</th><th>Employee_type</th><th>Date</th><th>Value</th></tr><tr><td>str</td><td>i64</td><td>str</td><td>str</td><td>date</td><td>str</td></tr></thead><tbody><tr><td>&quot;20230101_20231231.csv&quot;</td><td>102900538</td><td>&quot;TRONG NHAN  LUU&quot;</td><td>&quot;Fixed Term Hire&quot;</td><td>2023-08-24</td><td>&quot;NM&quot;</td></tr><tr><td>&quot;20220901_20221231.csv&quot;</td><td>102055498</td><td>&quot;DAC  VU&quot;</td><td>&quot;Fixed Term Hire&quot;</td><td>2022-09-03</td><td>&quot;PR&quot;</td></tr><tr><td>&quot;20220901_20221231.csv&quot;</td><td>102154676</td><td>&quot;THI THU TRANG  LE&quot;</td><td>&quot;Regular&quot;</td><td>2022-12-07</td><td>&quot;PR&quot;</td></tr></tbody></table></div>"
      ],
      "text/plain": [
       "shape: (3, 6)\n",
       "┌───────────────────────┬───────────┬───────────────────┬─────────────────┬────────────┬───────┐\n",
       "│ Filename              ┆ EID       ┆ Employee_Name     ┆ Employee_type   ┆ Date       ┆ Value │\n",
       "│ ---                   ┆ ---       ┆ ---               ┆ ---             ┆ ---        ┆ ---   │\n",
       "│ str                   ┆ i64       ┆ str               ┆ str             ┆ date       ┆ str   │\n",
       "╞═══════════════════════╪═══════════╪═══════════════════╪═════════════════╪════════════╪═══════╡\n",
       "│ 20230101_20231231.csv ┆ 102900538 ┆ TRONG NHAN  LUU   ┆ Fixed Term Hire ┆ 2023-08-24 ┆ NM    │\n",
       "│ 20220901_20221231.csv ┆ 102055498 ┆ DAC  VU           ┆ Fixed Term Hire ┆ 2022-09-03 ┆ PR    │\n",
       "│ 20220901_20221231.csv ┆ 102154676 ┆ THI THU TRANG  LE ┆ Regular         ┆ 2022-12-07 ┆ PR    │\n",
       "└───────────────────────┴───────────┴───────────────────┴─────────────────┴────────────┴───────┘"
      ]
     },
     "execution_count": 3,
     "metadata": {},
     "output_type": "execute_result"
    }
   ],
   "source": [
    "#[GLB]Ramco🎯\n",
    "\n",
    "Data_Ramco = []\n",
    "for file in glob.glob(Link_Ramco):\n",
    "    filename = os.path.basename(file)\n",
    "    Read = pl.read_csv(file, infer_schema_length=0, encoding='latin-1')\n",
    "    Ramco = Read.select(pl.all(), pl.lit(filename).alias(\"Filename\"))\n",
    "    Data_Ramco.append(Ramco)\n",
    "Ramco = pl.concat(Data_Ramco, how=\"diagonal\")\n",
    " \n",
    "#Edit Column\n",
    "Ramco = Ramco.with_columns(pl.col('Attribute').str.strptime(pl.Date, format='%m/%d/%Y'),\n",
    "                                         pl.col('EID').cast(pl.Int64)\n",
    "            ).rename({'Attribute': 'Date'}).select(['Filename','EID','Employee_Name','Employee_type','Date','Value'])\n",
    " \n",
    "# Export to Database\n",
    "Export_Ramco_DB = Ramco.write_database(\"Ramco_RAW\", f\"sqlite:///{Link_DB}\", if_table_exists=\"replace\")\n",
    " \n",
    "#RUN\n",
    "Export_Ramco_DB\n",
    "Ramco.sample(n=3)"
   ]
  },
  {
   "cell_type": "code",
   "execution_count": 4,
   "id": "e847c5fa-0fce-4dbc-b007-3457a0bec8b5",
   "metadata": {
    "editable": true,
    "jupyter": {
     "source_hidden": true
    },
    "scrolled": true,
    "slideshow": {
     "slide_type": ""
    },
    "tags": []
   },
   "outputs": [
    {
     "data": {
      "text/html": [
       "<div><style>\n",
       ".dataframe > thead > tr,\n",
       ".dataframe > tbody > tr {\n",
       "  text-align: right;\n",
       "  white-space: pre-wrap;\n",
       "}\n",
       "</style>\n",
       "<small>shape: (3, 13)</small><table border=\"1\" class=\"dataframe\"><thead><tr><th>Filename</th><th>LOB</th><th>DPE</th><th>OM</th><th>team_leader</th><th>Emp ID</th><th>Name</th><th>Date</th><th>Shift</th><th>Shift_type</th><th>week_off</th><th>Original_Shift</th><th>week_shift</th></tr><tr><td>str</td><td>str</td><td>i64</td><td>i64</td><td>i64</td><td>i64</td><td>str</td><td>date</td><td>str</td><td>str</td><td>str</td><td>str</td><td>str</td></tr></thead><tbody><tr><td>&quot;20240701_20241229.xlsx&quot;</td><td>&quot;DE&quot;</td><td>516333</td><td>101755109</td><td>101993760</td><td>102476823</td><td>&quot;Nguyen Tai Nam Anh&quot;</td><td>2024-09-16</td><td>&quot;1900-0400&quot;</td><td>&quot;NS&quot;</td><td>&quot;WedThu&quot;</td><td>&quot;1900-0400&quot;</td><td>&quot;1900-0400&quot;</td></tr><tr><td>&quot;20240101_20240630.xlsx&quot;</td><td>&quot;VICSP&quot;</td><td>101731723</td><td>101791108</td><td>102004295</td><td>102278405</td><td>&quot;Thong Kỳ Nam&quot;</td><td>2024-06-18</td><td>&quot;OFF&quot;</td><td>&quot;OFF&quot;</td><td>&quot;TueWed&quot;</td><td>&quot;OFF&quot;</td><td>&quot;0900-1800&quot;</td></tr><tr><td>&quot;20240701_20241229.xlsx&quot;</td><td>&quot;IT&quot;</td><td>101731723</td><td>101791108</td><td>102181223</td><td>102073293</td><td>&quot;Nguyen Duc Thang&quot;</td><td>2024-09-06</td><td>&quot;OFF&quot;</td><td>&quot;OFF&quot;</td><td>&quot;ThuFri&quot;</td><td>&quot;OFF&quot;</td><td>&quot;1900-0400&quot;</td></tr></tbody></table></div>"
      ],
      "text/plain": [
       "shape: (3, 13)\n",
       "┌────────────────────────┬───────┬───────────┬───────────┬───┬────────────┬──────────┬────────────────┬────────────┐\n",
       "│ Filename               ┆ LOB   ┆ DPE       ┆ OM        ┆ … ┆ Shift_type ┆ week_off ┆ Original_Shift ┆ week_shift │\n",
       "│ ---                    ┆ ---   ┆ ---       ┆ ---       ┆   ┆ ---        ┆ ---      ┆ ---            ┆ ---        │\n",
       "│ str                    ┆ str   ┆ i64       ┆ i64       ┆   ┆ str        ┆ str      ┆ str            ┆ str        │\n",
       "╞════════════════════════╪═══════╪═══════════╪═══════════╪═══╪════════════╪══════════╪════════════════╪════════════╡\n",
       "│ 20240701_20241229.xlsx ┆ DE    ┆ 516333    ┆ 101755109 ┆ … ┆ NS         ┆ WedThu   ┆ 1900-0400      ┆ 1900-0400  │\n",
       "│ 20240101_20240630.xlsx ┆ VICSP ┆ 101731723 ┆ 101791108 ┆ … ┆ OFF        ┆ TueWed   ┆ OFF            ┆ 0900-1800  │\n",
       "│ 20240701_20241229.xlsx ┆ IT    ┆ 101731723 ┆ 101791108 ┆ … ┆ OFF        ┆ ThuFri   ┆ OFF            ┆ 1900-0400  │\n",
       "└────────────────────────┴───────┴───────────┴───────────┴───┴────────────┴──────────┴────────────────┴────────────┘"
      ]
     },
     "execution_count": 4,
     "metadata": {},
     "output_type": "execute_result"
    }
   ],
   "source": [
    "#[BKN]Schedule🎯\n",
    "\n",
    "Data_Schedule = []\n",
    "for file in glob.glob(Link_Schedule):\n",
    "    filename = os.path.basename(file)\n",
    "    Read = pl.read_excel(file, infer_schema_length=None, engine=\"calamine\", sheet_name=\"Sheet1\")\n",
    "    Schedule = Read.select(pl.all(), pl.lit(filename).alias(\"Filename\"))\n",
    "    Data_Schedule.append(Schedule)\n",
    "Schedule = pl.concat(Data_Schedule, how=\"diagonal\")\n",
    "\n",
    "#Edit Column\n",
    "# Schedule = Schedule.with_columns(pl.col(\"Attribute\").str.to_datetime(\"%m-%d-%y\").cast(pl.Date)) \n",
    "Schedule = Schedule.with_columns(pl.col(\"Value\").alias(\"Original_Shift\"))\n",
    "condition = (\n",
    "    (pl.col(\"Value\") == \"OFF\")\n",
    "    | (pl.col(\"Value\") == \"AL\")\n",
    "    | (pl.col(\"Value\") == \"CO\")\n",
    "    | (pl.col(\"Value\") == \"HO\")\n",
    "    | (pl.col(\"Value\") == \"UPL\")\n",
    "    | (pl.col(\"Value\") == \"VGH\"))\n",
    "condition_training = (\n",
    "    (pl.col(\"Value\") == \"Training\")\n",
    "    | (pl.col(\"Value\") == \"PEGA\"))\n",
    "Schedule = Schedule.with_columns(\n",
    "    pl.when(condition).then(pl.lit(\"OFF\"))\n",
    "      .when(condition_training).then(pl.lit(\"Training\"))\n",
    "      .otherwise(pl.col(\"NS Check\")).alias(\"Shift_type\"))\n",
    "Schedule = Schedule.rename({'Attribute':'Date','Value':'Shift'}).drop('SEAT')\n",
    "Schedule = Schedule.join(Ramco.select(pl.col([\"EID\", \"Date\", \"Value\"])), coalesce=True,\n",
    "                         left_on=[\"Emp ID\", \"Date\"],right_on=[\"EID\", \"Date\"],how=\"left\")\n",
    "Schedule = Schedule.with_columns(\n",
    "    pl.when(\n",
    "        (pl.col(\"Value\") == \"PH\") | (pl.col(\"Value\") == \"PO\")\n",
    "    ).then(\n",
    "        pl.col(\"week_shift\")\n",
    "    ).otherwise(\n",
    "        pl.col(\"Shift\")\n",
    "    ).alias(\"Actual_shift\"))\n",
    "Schedule = Schedule.with_columns(\n",
    "    pl.when(\n",
    "        pl.col(\"Actual_shift\").is_in([\n",
    "            '0000-0900', '0100-1000', '0200-1100', '0300-1200', '0400-1300', '0500-1400',\n",
    "            '0600-1500', '0700-1600', '0800-1700', '0900-1800', '1000-1900', '1100-2000',\n",
    "            '1200-2100', '1300-2200', '1400-2300'])\n",
    "    ).then(pl.lit(\"DS\"))\n",
    "    .when(\n",
    "        pl.col(\"Actual_shift\").is_in([\n",
    "            '1500-0000', '1600-0100', '1700-0200', '1800-0300', '1900-0400', '2000-0500',\n",
    "            '2100-0600', '2200-0700', '2300-0800'])\n",
    "    ).then(pl.lit(\"NS\"))\n",
    "    .otherwise(pl.col(\"Shift_type\"))\n",
    "    .fill_null(pl.col(\"Shift_type\"))  \n",
    "    .alias(\"Actual_shift_type\"))\n",
    "Schedule = Schedule.select(['Filename','LOB','DPE','OM','team_leader',\n",
    "                            'Emp ID','Name','Date','Actual_shift','Actual_shift_type', \n",
    "                            'week_off','Original_Shift','week_shift'])\n",
    "Schedule = Schedule.rename({'Actual_shift':'Shift','Actual_shift_type':'Shift_type'})\n",
    "\n",
    "# Export to Database\n",
    "Export_Schedule_DB = Schedule.write_database(\"Schedule_RAW\", f\"sqlite:///{Link_DB}\", if_table_exists=\"replace\")\n",
    "\n",
    "#RUN\n",
    "Export_Schedule_DB\n",
    "Schedule.sample(n=3)"
   ]
  },
  {
   "cell_type": "code",
   "execution_count": 5,
   "id": "8f844666-98cd-4d16-9b93-21ae8de845c6",
   "metadata": {
    "jupyter": {
     "source_hidden": true
    }
   },
   "outputs": [
    {
     "data": {
      "text/html": [
       "<div><style>\n",
       ".dataframe > thead > tr,\n",
       ".dataframe > tbody > tr {\n",
       "  text-align: right;\n",
       "  white-space: pre-wrap;\n",
       "}\n",
       "</style>\n",
       "<small>shape: (3, 11)</small><table border=\"1\" class=\"dataframe\"><thead><tr><th>Filename</th><th>ID Agent</th><th>First name Agent</th><th>Last name Agent</th><th>Suffix Agent</th><th>Unified user ID</th><th>External ID</th><th>EID</th><th>Address E-mail</th><th>Language E-mail</th><th>Date Seniority</th></tr><tr><td>str</td><td>i64</td><td>str</td><td>str</td><td>str</td><td>str</td><td>str</td><td>i64</td><td>str</td><td>str</td><td>str</td></tr></thead><tbody><tr><td>&quot;IEX.xlsx&quot;</td><td>3003396</td><td>&quot;HUUNHATMINH&quot;</td><td>&quot;NGUYEN&quot;</td><td>null</td><td>&quot;202403200249191025173290000000…</td><td>&quot;huunhatminh.nguyen@concentrix.…</td><td>102517329</td><td>null</td><td>&quot;English (Philippines)&quot;</td><td>&quot;2024-03-18&quot;</td></tr><tr><td>&quot;IEX.xlsx&quot;</td><td>3067250</td><td>&quot;TranPhan&quot;</td><td>&quot;Nguyen&quot;</td><td>null</td><td>&quot;202305310238251022573340000000…</td><td>&quot;tranphan.nguyen@concentrix.com&quot;</td><td>102257334</td><td>null</td><td>&quot;English (Philippines)&quot;</td><td>&quot;2023-05-29&quot;</td></tr><tr><td>&quot;IEX.xlsx&quot;</td><td>3100571</td><td>null</td><td>null</td><td>null</td><td>null</td><td>null</td><td>103208172</td><td>null</td><td>&quot;148&quot;</td><td>null</td></tr></tbody></table></div>"
      ],
      "text/plain": [
       "shape: (3, 11)\n",
       "┌──────────┬──────────┬─────────────┬───────────┬───┬───────────┬──────────────────┬─────────────────┬─────────────────┐\n",
       "│ Filename ┆ ID Agent ┆ First name  ┆ Last name ┆ … ┆ EID       ┆ Address E-mail   ┆ Language E-mail ┆ Date Seniority  │\n",
       "│ ---      ┆ ---      ┆ Agent       ┆ Agent     ┆   ┆ ---       ┆ ---              ┆ ---             ┆ ---             │\n",
       "│ str      ┆ i64      ┆ ---         ┆ ---       ┆   ┆ i64       ┆ str              ┆ str             ┆ str             │\n",
       "│          ┆          ┆ str         ┆ str       ┆   ┆           ┆                  ┆                 ┆                 │\n",
       "╞══════════╪══════════╪═════════════╪═══════════╪═══╪═══════════╪══════════════════╪═════════════════╪═════════════════╡\n",
       "│ IEX.xlsx ┆ 3003396  ┆ HUUNHATMINH ┆ NGUYEN    ┆ … ┆ 102517329 ┆ null             ┆ English         ┆ 2024-03-18      │\n",
       "│          ┆          ┆             ┆           ┆   ┆           ┆                  ┆ (Philippines)   ┆                 │\n",
       "│ IEX.xlsx ┆ 3067250  ┆ TranPhan    ┆ Nguyen    ┆ … ┆ 102257334 ┆ null             ┆ English         ┆ 2023-05-29      │\n",
       "│          ┆          ┆             ┆           ┆   ┆           ┆                  ┆ (Philippines)   ┆                 │\n",
       "│ IEX.xlsx ┆ 3100571  ┆ null        ┆ null      ┆ … ┆ 103208172 ┆ null             ┆ 148             ┆ null            │\n",
       "└──────────┴──────────┴─────────────┴───────────┴───┴───────────┴──────────────────┴─────────────────┴─────────────────┘"
      ]
     },
     "execution_count": 5,
     "metadata": {},
     "output_type": "execute_result"
    }
   ],
   "source": [
    "#[BKN]IEX🎯\n",
    "\n",
    "Data_IEX = []\n",
    "for file in glob.glob(Link_IEX):\n",
    "    filename = os.path.basename(file)\n",
    "    Read = pl.read_excel(file, infer_schema_length=None, sheet_name=\"Sheet1\", engine=\"xlsx2csv\")\n",
    "    IEX = Read.select(pl.all(), pl.lit(filename).alias(\"Filename\"))\n",
    "    Data_IEX.append(IEX)\n",
    "IEX = pl.concat(Data_IEX, how=\"diagonal\")\n",
    "\n",
    "#Edit Column\n",
    "IEX = IEX.rename({'Personal ID': 'EID'}\n",
    "        ).select(['Filename','ID Agent','First name Agent','Last name Agent','Suffix Agent','Unified user ID',\n",
    "                  'External ID','EID','Address E-mail','Language E-mail','Date Seniority'])\n",
    "\n",
    "# Export to Database\n",
    "Export_IEX_DB = IEX.write_database(\"IEX_RAW\", f\"sqlite:///{Link_DB}\", if_table_exists=\"replace\")\n",
    "\n",
    "#RUN\n",
    "Export_IEX_DB\n",
    "IEX.sample(n=3)"
   ]
  },
  {
   "cell_type": "code",
   "execution_count": 6,
   "id": "c5a0c704-2ef2-404a-8a2d-b3127ea9be5b",
   "metadata": {
    "editable": true,
    "jupyter": {
     "source_hidden": true
    },
    "slideshow": {
     "slide_type": ""
    },
    "tags": []
   },
   "outputs": [
    {
     "data": {
      "text/html": [
       "<div><style>\n",
       ".dataframe > thead > tr,\n",
       ".dataframe > tbody > tr {\n",
       "  text-align: right;\n",
       "  white-space: pre-wrap;\n",
       "}\n",
       "</style>\n",
       "<small>shape: (3, 19)</small><table border=\"1\" class=\"dataframe\"><thead><tr><th>Filename</th><th>LOB</th><th>ID</th><th>EID</th><th>DateTime_Start</th><th>DateTime_End</th><th>Date_Start</th><th>Date_end</th><th>Time_Start</th><th>Time_End</th><th>Dur</th><th>Action</th><th>DateTime_Act_Start</th><th>DateTime_Act_End</th><th>Date_Act_Start</th><th>Date_Act_End</th><th>Time_Act_Start</th><th>Time_Act_End</th><th>Act_Dur</th></tr><tr><td>str</td><td>str</td><td>i64</td><td>i64</td><td>datetime[μs]</td><td>datetime[μs]</td><td>date</td><td>date</td><td>time</td><td>time</td><td>f64</td><td>str</td><td>datetime[μs]</td><td>datetime[μs]</td><td>date</td><td>date</td><td>time</td><td>time</td><td>f64</td></tr></thead><tbody><tr><td>&quot;20240901_20250302.xlsx&quot;</td><td>&quot;FR&quot;</td><td>3079935</td><td>102369707</td><td>2024-12-07 13:00:00</td><td>2024-12-07 22:00:00</td><td>2024-12-07</td><td>2024-12-07</td><td>13:00:00</td><td>22:00:00</td><td>9.0</td><td>&quot;Email 1&quot;</td><td>2024-12-07 15:00:00</td><td>2024-12-07 16:00:00</td><td>2024-12-07</td><td>2024-12-07</td><td>15:00:00</td><td>16:00:00</td><td>1.0</td></tr><tr><td>&quot;20231120_20240831.xlsx&quot;</td><td>&quot;EN&quot;</td><td>3001380</td><td>102507451</td><td>2024-04-07 07:00:00</td><td>2024-04-07 16:00:00</td><td>2024-04-07</td><td>2024-04-07</td><td>07:00:00</td><td>16:00:00</td><td>9.0</td><td>&quot;Email 1&quot;</td><td>2024-04-07 13:00:00</td><td>2024-04-07 14:10:00</td><td>2024-04-07</td><td>2024-04-07</td><td>13:00:00</td><td>14:10:00</td><td>1.166667</td></tr><tr><td>&quot;20250310_20250407.xlsx&quot;</td><td>&quot;EN&quot;</td><td>3008652</td><td>102847116</td><td>2025-03-21 05:00:00</td><td>2025-03-21 14:00:00</td><td>2025-03-21</td><td>2025-03-21</td><td>05:00:00</td><td>14:00:00</td><td>9.0</td><td>&quot;Open Time&quot;</td><td>2025-03-21 13:20:00</td><td>2025-03-21 14:00:00</td><td>2025-03-21</td><td>2025-03-21</td><td>13:20:00</td><td>14:00:00</td><td>0.666667</td></tr></tbody></table></div>"
      ],
      "text/plain": [
       "shape: (3, 19)\n",
       "┌────────────────────────┬─────┬─────────┬───────────┬───┬──────────────┬────────────────┬──────────────┬──────────┐\n",
       "│ Filename               ┆ LOB ┆ ID      ┆ EID       ┆ … ┆ Date_Act_End ┆ Time_Act_Start ┆ Time_Act_End ┆ Act_Dur  │\n",
       "│ ---                    ┆ --- ┆ ---     ┆ ---       ┆   ┆ ---          ┆ ---            ┆ ---          ┆ ---      │\n",
       "│ str                    ┆ str ┆ i64     ┆ i64       ┆   ┆ date         ┆ time           ┆ time         ┆ f64      │\n",
       "╞════════════════════════╪═════╪═════════╪═══════════╪═══╪══════════════╪════════════════╪══════════════╪══════════╡\n",
       "│ 20240901_20250302.xlsx ┆ FR  ┆ 3079935 ┆ 102369707 ┆ … ┆ 2024-12-07   ┆ 15:00:00       ┆ 16:00:00     ┆ 1.0      │\n",
       "│ 20231120_20240831.xlsx ┆ EN  ┆ 3001380 ┆ 102507451 ┆ … ┆ 2024-04-07   ┆ 13:00:00       ┆ 14:10:00     ┆ 1.166667 │\n",
       "│ 20250310_20250407.xlsx ┆ EN  ┆ 3008652 ┆ 102847116 ┆ … ┆ 2025-03-21   ┆ 13:20:00       ┆ 14:00:00     ┆ 0.666667 │\n",
       "└────────────────────────┴─────┴─────────┴───────────┴───┴──────────────┴────────────────┴──────────────┴──────────┘"
      ]
     },
     "execution_count": 6,
     "metadata": {},
     "output_type": "execute_result"
    }
   ],
   "source": [
    "#[BKN]Workplan🎯\n",
    "\n",
    "Data_Workplan = []\n",
    "for file in glob.glob(Link_Workplan):\n",
    "    filename = os.path.basename(file)\n",
    "    Read = pl.read_excel(file, infer_schema_length=None, sheet_name=\"Sheet1\")\n",
    "    Workplan = Read.select(pl.all(), pl.lit(filename).alias(\"Filename\"))\n",
    "    Data_Workplan.append(Workplan)\n",
    "Workplan = pl.concat(Data_Workplan, how=\"diagonal_relaxed\")\n",
    "\n",
    "#Edit Column\n",
    "Workplan = pl.DataFrame(Workplan).to_pandas() \n",
    "Workplan['Date'] = pd.to_datetime(Workplan['Date'], format='mixed').dt.date\n",
    "Workplan['Start1'] = pd.to_datetime(Workplan['Start1'], format='mixed').dt.time\n",
    "Workplan['End1'] = pd.to_datetime(Workplan['End1'], format='mixed').dt.time\n",
    "Workplan['Start2'] = pd.to_datetime(Workplan['Start2'], format='mixed').dt.time\n",
    "Workplan['End2'] = pd.to_datetime(Workplan['End2'], format='mixed').dt.time\n",
    "Workplan = pl.from_pandas(Workplan)\n",
    "# Workplan = Workplan.with_columns(pl.col('Start1','End1','Start2','End2').str.strptime(pl.Time, format='%H:%M'))\n",
    "# Workplan = Workplan.with_columns(pl.col('Date').str.strptime(pl.Date, format='%m-%d-%y', strict=False))\n",
    "Workplan = Workplan.with_columns(pl.col('ID').cast(pl.Int64))\n",
    "threshold = t(15, 0, 0) # Định nghĩa ngưỡng thời gian (15:00:00)\n",
    "Workplan = Workplan.with_columns( # Tính toán Date_end\n",
    "    pl.when(pl.col(\"Start1\").cast(pl.Time) >= threshold)\n",
    "        .then(pl.col(\"Date\").cast(pl.Date) + timedelta(days=1)) \n",
    "        .otherwise(pl.col(\"Date\").cast(pl.Date)) \n",
    "        .alias(\"Date_end\"))\n",
    "Workplan = Workplan.with_columns( # Tạo DateTime_Start và DateTime_End trực tiếp từ chuỗi\n",
    "    (pl.col(\"Date\").dt.strftime(\"%Y-%m-%d\") + \" \" + pl.col(\"Start1\").cast(str)).str.strptime(pl.Datetime, \"%Y-%m-%d %H:%M:%S\").alias(\"DateTime_Start\"),\n",
    "    (pl.col(\"Date_end\").dt.strftime(\"%Y-%m-%d\") + \" \" + pl.col(\"End1\").cast(str)).str.strptime(pl.Datetime, \"%Y-%m-%d %H:%M:%S\").alias(\"DateTime_End\"))\n",
    "Workplan = Workplan.filter(pl.col(\"Start2\").is_not_null() & pl.col(\"End2\").is_not_null()) # Filter for non-null values (similar to pandas .loc)\n",
    "Workplan = Workplan.with_columns( # Create 'Date_Act_Start' column\n",
    "    pl.when(\n",
    "        (pl.col(\"Start1\") >= t(15, 0, 0)) & (pl.col(\"Start2\") <= t(15, 0, 0)))\n",
    "    .then(pl.col(\"Date\") + pl.duration(days=1))  # Directly add a duration to the Date column\n",
    "    .otherwise(pl.col(\"Date\"))\n",
    "    .alias(\"Date_Act_Start\"))\n",
    "Workplan = Workplan.with_columns( # Create 'DateTime_Act_Start' column\n",
    "    (pl.col(\"Date_Act_Start\").dt.strftime(\"%Y-%m-%d\") + \" \" + pl.col(\"Start2\").cast(str))\n",
    "    .str.strptime(pl.Datetime, \"%Y-%m-%d %H:%M:%S\")\n",
    "    .alias(\"DateTime_Act_Start\"))\n",
    "Workplan = Workplan.with_columns( # Create 'Date_Act_End' column\n",
    "    pl.when(\n",
    "        (pl.col(\"Start1\") >= t(15, 0, 0)) & (pl.col(\"End2\") <= t(15, 0, 0)))\n",
    "    .then(pl.col(\"Date\") + pl.duration(days=1))  # Add duration directly to Date column\n",
    "    .otherwise(pl.col(\"Date\"))\n",
    "    .alias(\"Date_Act_End\"))\n",
    "Workplan = Workplan.with_columns( # Create 'DateTime_Act_End' column\n",
    "    (pl.col(\"Date_Act_End\").dt.strftime(\"%Y-%m-%d\") + \" \" + pl.col(\"End2\").cast(str))\n",
    "    .str.strptime(pl.Datetime, \"%Y-%m-%d %H:%M:%S\")\n",
    "    .alias(\"DateTime_Act_End\"))\n",
    "Workplan = Workplan.with_columns(( # Chuyển đổi kiểu dữ liệu và tính toán Dur (giờ)\n",
    "    (pl.col(\"DateTime_End\") - pl.col(\"DateTime_Start\")).dt.total_seconds() / 3600).alias(\"Dur\"))\n",
    "Workplan = Workplan.with_columns(( # Chuyển đổi kiểu dữ liệu và tính toán Act_Dur (giờ)\n",
    "    (pl.col(\"DateTime_Act_End\") - pl.col(\"DateTime_Act_Start\")).dt.total_seconds() / 3600).alias(\"Act_Dur\"))\n",
    "Workplan = Workplan.join(IEX,coalesce=True, left_on=\"ID\", right_on=\"ID Agent\", how=\"left\"\n",
    "                  ).select(['Filename','LOB','ID','EID','DateTime_Start','DateTime_End','Date','Date_end','Start1',\n",
    "                            'End1','Dur','Schedule Act','DateTime_Act_Start','DateTime_Act_End','Date_Act_Start',\n",
    "                            'Date_Act_End','Start2','End2','Act_Dur']\n",
    "                  ).rename({'Date':'Date_Start','Start1':'Time_Start','End1':'Time_End','Schedule Act':'Action',\n",
    "                            'Start2':'Time_Act_Start','End2':'Time_Act_End'})\n",
    "\n",
    "# Export to Database\n",
    "Export_Workplan_DB = Workplan.write_database(\"Workplan_RAW\", f\"sqlite:///{Link_DB}\", if_table_exists=\"replace\")\n",
    "\n",
    "#RUN\n",
    "Export_Workplan_DB\n",
    "Workplan.sample(n=3)"
   ]
  },
  {
   "cell_type": "markdown",
   "id": "177dc801-af03-4939-9440-e095fc61ecf6",
   "metadata": {},
   "source": [
    "# For subsequent runs today, start from this section only 🤖\n",
    "\n",
    "**Execute only the main code block to save time.**"
   ]
  },
  {
   "cell_type": "code",
   "execution_count": 7,
   "id": "80895933-f836-444a-9f01-030accad45d3",
   "metadata": {
    "editable": true,
    "slideshow": {
     "slide_type": ""
    },
    "tags": []
   },
   "outputs": [],
   "source": [
    "# Library list🤖\n",
    "import glob, warnings, polars as pl, datetime, sqlite3, time, os, zipfile, xml.dom.minidom\n",
    "from datetime import datetime as dt, time as t, timedelta\n",
    "import pandas as pd, numpy as np, sqlalchemy as sa, xlsxwriter\n",
    "from sqlalchemy import create_engine\n",
    "from openpyxl import Workbook\n",
    "from openpyxl.utils.dataframe import dataframe_to_rows\n",
    "from polars.exceptions import ColumnNotFoundError\n",
    "import shutil\n",
    "\n",
    "# -----------------------------------------------------------------------------------------------#\n",
    "# Source collection\n",
    "user_credential = os.path.join(os.environ['USERPROFILE'],r'Concentrix Corporation//CNXVN - WFM Team - Documents//')\n",
    "\n",
    "# INPUT-----💾-----💾-----💾-----💾-----💾-----💾-----💾-----💾-----💾-----💾\n",
    "\n",
    "# [BKN]AGENTS 0️⃣1️⃣\n",
    "Link_AGENTS = os.path.join(user_credential,\n",
    "                            r'DataBase//DataRaw//BKN//AGENTS//*.xlsx')\n",
    "# [GLB]Ramco 0️⃣2️⃣\n",
    "Link_Ramco = os.path.join(user_credential,\n",
    "                            r'DataBase//DataRaw//GLOBAL//RAMCO//*.CSV')\n",
    "# [BKN]Schedule 0️⃣3️⃣\n",
    "Link_Schedule = os.path.join(user_credential,\n",
    "                            r'DataBase//DataRaw//BKN//ROSTER//*.xlsx')\n",
    "# [BKN]IEX 0️⃣4️⃣\n",
    "Link_IEX = os.path.join(user_credential,\n",
    "                        r'DataBase//DataRaw//BKN//IEX//*.xlsx')\n",
    "# [BKN]Workplan 0️⃣5️⃣\n",
    "Link_Workplan = os.path.join(user_credential,\n",
    "                            r'DataBase//DataRaw//BKN//WORKPLAN//WORKPLAN QUERY//*.xlsx')\n",
    "# [BKN]REALTIME_CUIC 0️⃣6️⃣\n",
    "Link_REALTIME_CUIC = os.path.join(user_credential,\n",
    "                            r'DataBase//DataRaw//BKN//REALTIME_VIEW//*.xlsx')\n",
    "\n",
    "# OUTPUT-----📥-----📥-----📥-----📥-----📥-----📥-----📥-----📥-----📥-----📥\n",
    "\n",
    "# [BKN]MONITOR_DF 📑\n",
    "DF_MONITOR_DF = os.path.join(user_credential, \n",
    "                        r'DataBase//DataFrame//BKN//MONITOR_DF')\n",
    "\n",
    "# -----------------------------------------------------------------------------------------------#\n",
    "# MyMiscellaneous\n",
    "\n",
    "# [DB]TonyMiscellaneous\n",
    "Link_DB = os.path.join(os.environ['USERPROFILE'], r'Desktop//Bcom_DB.db')\n",
    "conn = create_engine(f\"sqlite:///{Link_DB}\")"
   ]
  },
  {
   "cell_type": "code",
   "execution_count": 13,
   "id": "cb32c397-091d-4e1e-a654-9f6101da3df7",
   "metadata": {
    "editable": true,
    "scrolled": true,
    "slideshow": {
     "slide_type": ""
    },
    "tags": []
   },
   "outputs": [
    {
     "data": {
      "text/html": [
       "<div><style>\n",
       ".dataframe > thead > tr,\n",
       ".dataframe > tbody > tr {\n",
       "  text-align: right;\n",
       "  white-space: pre-wrap;\n",
       "}\n",
       "</style>\n",
       "<small>shape: (3, 8)</small><table border=\"1\" class=\"dataframe\"><thead><tr><th>Filename</th><th>DateTime</th><th>Agent</th><th>State</th><th>Reason</th><th>Direction</th><th>Duration</th><th>Extension</th></tr><tr><td>str</td><td>datetime[μs]</td><td>str</td><td>str</td><td>str</td><td>str</td><td>f64</td><td>i64</td></tr></thead><tbody><tr><td>&quot;00_RTA_View-Agent Team Real Ti…</td><td>2025-05-22 18:34:42</td><td>&quot;Ngo, Tracie&quot;</td><td>&quot;Not Ready&quot;</td><td>&quot;Picklist 2.0&quot;</td><td>&quot;Not Applicable&quot;</td><td>0.000648</td><td>72786998</td></tr><tr><td>&quot;00_RTA_View-Agent Team Real Ti…</td><td>2025-05-22 17:03:02</td><td>&quot;Vo, Quinie&quot;</td><td>&quot;Not Ready&quot;</td><td>&quot;Picklist 2.0&quot;</td><td>&quot;Not Applicable&quot;</td><td>0.06125</td><td>72786073</td></tr><tr><td>&quot;00_RTA_View-Agent Team Real Ti…</td><td>2025-05-22 17:38:42</td><td>&quot;Le, Nathan&quot;</td><td>&quot;Not Ready&quot;</td><td>&quot;Lunch&quot;</td><td>&quot;Not Applicable&quot;</td><td>0.02912</td><td>72786823</td></tr></tbody></table></div>"
      ],
      "text/plain": [
       "shape: (3, 8)\n",
       "┌───────────────────┬──────────────┬─────────────┬───────────┬──────────────┬────────────────┬──────────┬───────────┐\n",
       "│ Filename          ┆ DateTime     ┆ Agent       ┆ State     ┆ Reason       ┆ Direction      ┆ Duration ┆ Extension │\n",
       "│ ---               ┆ ---          ┆ ---         ┆ ---       ┆ ---          ┆ ---            ┆ ---      ┆ ---       │\n",
       "│ str               ┆ datetime[μs] ┆ str         ┆ str       ┆ str          ┆ str            ┆ f64      ┆ i64       │\n",
       "╞═══════════════════╪══════════════╪═════════════╪═══════════╪══════════════╪════════════════╪══════════╪═══════════╡\n",
       "│ 00_RTA_View-Agent ┆ 2025-05-22   ┆ Ngo, Tracie ┆ Not Ready ┆ Picklist 2.0 ┆ Not Applicable ┆ 0.000648 ┆ 72786998  │\n",
       "│ Team Real Ti…     ┆ 18:34:42     ┆             ┆           ┆              ┆                ┆          ┆           │\n",
       "│ 00_RTA_View-Agent ┆ 2025-05-22   ┆ Vo, Quinie  ┆ Not Ready ┆ Picklist 2.0 ┆ Not Applicable ┆ 0.06125  ┆ 72786073  │\n",
       "│ Team Real Ti…     ┆ 17:03:02     ┆             ┆           ┆              ┆                ┆          ┆           │\n",
       "│ 00_RTA_View-Agent ┆ 2025-05-22   ┆ Le, Nathan  ┆ Not Ready ┆ Lunch        ┆ Not Applicable ┆ 0.02912  ┆ 72786823  │\n",
       "│ Team Real Ti…     ┆ 17:38:42     ┆             ┆           ┆              ┆                ┆          ┆           │\n",
       "└───────────────────┴──────────────┴─────────────┴───────────┴──────────────┴────────────────┴──────────┴───────────┘"
      ]
     },
     "execution_count": 13,
     "metadata": {},
     "output_type": "execute_result"
    }
   ],
   "source": [
    "#[BKN]REALTIME_CUIC🎯\n",
    " \n",
    "Data_REALTIME_CUIC = []\n",
    "for file in glob.glob(Link_REALTIME_CUIC):\n",
    "    filename = os.path.basename(file)\n",
    "    Read = pl.read_excel(file, infer_schema_length=None, engine=\"calamine\")\n",
    "    REALTIME_CUIC = Read.select(pl.all(), pl.lit(filename).alias(\"Filename\"))\n",
    "    Data_REALTIME_CUIC.append(REALTIME_CUIC)\n",
    "REALTIME_CUIC = pl.concat(Data_REALTIME_CUIC, how=\"diagonal\")\n",
    "\n",
    "#Edit Column\n",
    "REALTIME_CUIC = REALTIME_CUIC.with_columns(\n",
    "    pl.col(\"DateTime\").str.to_datetime(\"%m/%d/%y %I:%M:%S %p\").cast(pl.Datetime),\n",
    "    pl.col('Extension').cast(pl.Int64, strict=False)).select(['Filename','DateTime','Agent','State','Reason','Direction','Duration','Extension'])\n",
    "\n",
    "# Export to Database\n",
    "Export_REALTIME_CUIC_DB = REALTIME_CUIC.write_database(\"REALTIME_CUIC_RAW\", f\"sqlite:///{Link_DB}\", if_table_exists=\"replace\")\n",
    "\n",
    "# #RUN\n",
    "Export_REALTIME_CUIC_DB\n",
    "REALTIME_CUIC.sample(n=3)"
   ]
  },
  {
   "cell_type": "code",
   "execution_count": 14,
   "id": "68a8d862-4065-4ada-a09d-e6554afc07be",
   "metadata": {
    "editable": true,
    "jupyter": {
     "source_hidden": true
    },
    "slideshow": {
     "slide_type": ""
    },
    "tags": []
   },
   "outputs": [
    {
     "data": {
      "text/html": [
       "<div><style>\n",
       ".dataframe > thead > tr,\n",
       ".dataframe > tbody > tr {\n",
       "  text-align: right;\n",
       "  white-space: pre-wrap;\n",
       "}\n",
       "</style>\n",
       "<small>shape: (3, 15)</small><table border=\"1\" class=\"dataframe\"><thead><tr><th>Date</th><th>LOB</th><th>TL_MAIL</th><th>TeamLead</th><th>EID</th><th>Name</th><th>CUIC Name</th><th>Shift</th><th>WorkPlan_Act</th><th>WorkPlan_Start</th><th>WorkPlan_End</th><th>Actual Start</th><th>Current_Act</th><th>Current_Duration</th><th>WFM_NOTE</th></tr><tr><td>str</td><td>str</td><td>str</td><td>str</td><td>i64</td><td>str</td><td>str</td><td>str</td><td>str</td><td>str</td><td>str</td><td>str</td><td>str</td><td>f64</td><td>str</td></tr></thead><tbody><tr><td>&quot;2025-05-22&quot;</td><td>&quot;IT&quot;</td><td>&quot;tungminh.tran@concentrix.com&quot;</td><td>&quot;Mason Tran&quot;</td><td>102060823</td><td>&quot;Nguyen Cam Vinh&quot;</td><td>&quot;Nguyen, Eden&quot;</td><td>&quot;1400-2300&quot;</td><td>null</td><td>null</td><td>null</td><td>&quot;2025-05-22 18:35:04&quot;</td><td>&quot;Lunch&quot;</td><td>0.572778</td><td>&quot;OutOfHoop,&quot;</td></tr><tr><td>&quot;2025-05-22&quot;</td><td>null</td><td>null</td><td>null</td><td>102512265</td><td>&quot;Lê Đặng Thanh Thảo&quot;</td><td>&quot;Le, Clara&quot;</td><td>null</td><td>null</td><td>null</td><td>null</td><td>&quot;2025-05-22 18:14:00&quot;</td><td>&quot;Email 1&quot;</td><td>0.007778</td><td>&quot;OutOfHoop,&quot;</td></tr><tr><td>&quot;2025-05-22&quot;</td><td>&quot;CS&quot;</td><td>&quot;vinhkhoi.le@concentrix.com&quot;</td><td>&quot;Karl Le&quot;</td><td>102871042</td><td>&quot;Huynh Tuan Thong&quot;</td><td>&quot;Huynh, Danzel&quot;</td><td>&quot;1900-0400&quot;</td><td>null</td><td>null</td><td>null</td><td>&quot;2025-05-22 18:35:42&quot;</td><td>&quot;Email 1&quot;</td><td>1.094444</td><td>&quot;OutOfHoop,&quot;</td></tr></tbody></table></div>"
      ],
      "text/plain": [
       "shape: (3, 15)\n",
       "┌────────────┬──────┬───────────────────┬────────────┬───┬──────────────┬─────────────┬───────────────────┬────────────┐\n",
       "│ Date       ┆ LOB  ┆ TL_MAIL           ┆ TeamLead   ┆ … ┆ Actual Start ┆ Current_Act ┆ Current_Duration  ┆ WFM_NOTE   │\n",
       "│ ---        ┆ ---  ┆ ---               ┆ ---        ┆   ┆ ---          ┆ ---         ┆ ---               ┆ ---        │\n",
       "│ str        ┆ str  ┆ str               ┆ str        ┆   ┆ str          ┆ str         ┆ f64               ┆ str        │\n",
       "╞════════════╪══════╪═══════════════════╪════════════╪═══╪══════════════╪═════════════╪═══════════════════╪════════════╡\n",
       "│ 2025-05-22 ┆ IT   ┆ tungminh.tran@con ┆ Mason Tran ┆ … ┆ 2025-05-22   ┆ Lunch       ┆ 0.572778          ┆ OutOfHoop, │\n",
       "│            ┆      ┆ centrix.com       ┆            ┆   ┆ 18:35:04     ┆             ┆                   ┆            │\n",
       "│ 2025-05-22 ┆ null ┆ null              ┆ null       ┆ … ┆ 2025-05-22   ┆ Email 1     ┆ 0.007778          ┆ OutOfHoop, │\n",
       "│            ┆      ┆                   ┆            ┆   ┆ 18:14:00     ┆             ┆                   ┆            │\n",
       "│ 2025-05-22 ┆ CS   ┆ vinhkhoi.le@conce ┆ Karl Le    ┆ … ┆ 2025-05-22   ┆ Email 1     ┆ 1.094444          ┆ OutOfHoop, │\n",
       "│            ┆      ┆ ntrix.com         ┆            ┆   ┆ 18:35:42     ┆             ┆                   ┆            │\n",
       "└────────────┴──────┴───────────────────┴────────────┴───┴──────────────┴─────────────┴───────────────────┴────────────┘"
      ]
     },
     "execution_count": 14,
     "metadata": {},
     "output_type": "execute_result"
    }
   ],
   "source": [
    "#[BKN]MONITOR_DF🎡\n",
    "\n",
    "query = \"\"\" \n",
    "\n",
    "WITH\n",
    "\n",
    "---Setup CUIC REALTIME---🛖\n",
    "REALTIME_CUIC AS (   \n",
    "WITH\n",
    "--Import Monitor, Masterroster 🤖\n",
    "Monitor AS (Select Datetime([DateTime]) As [Code_Starttime],[Extension],[Agent],[State],[Reason],[Direction],[Duration],datetime(julianday([DateTime])+(Duration)) As [DateTime] From REALTIME_CUIC_RAW),\n",
    "EmpID   As (Select [Employee_ID],[Extension Number],[CUIC Name],[Full name],[Role] From AGENTS_RAW),\n",
    "ExtID   As (Select [Employee_ID],[Extension Number],[CUIC Name],[Full name],[Role] From AGENTS_RAW),\n",
    "Roster  As (Select [Date],[Shift],[LOB],[team_leader] As [TeamLead],[Emp ID],[Name] From Schedule_RAW),\n",
    "Leader  As (Select [Employee_ID],[TED Name] As [TL_Name],[cnx_email] As [TL_MAIL] From AGENTS_RAW)\n",
    "--Run CUIC REALTIME 📟\n",
    "Select Datetime(Monitor.[DateTime]) As [Actual Start], Monitor.[Code_Starttime],COALESCE(ExtID.[Employee_ID],EmpID.[Employee_ID]) As [Employee_ID], COALESCE(ExtID.[CUIC Name],EmpID.[CUIC Name]) As [CUIC Name], Monitor.[State] As [Current_State],\n",
    "Case When Monitor.[Reason] = 'Picklist 2.0'      Then 'Email 1' \n",
    "     When Monitor.[Reason] = 'Lunch'             Then 'Lunch' \n",
    "     When Monitor.[Reason] = 'NONE'              Then 'NONE' \n",
    "     When Monitor.[Reason] = 'Outgoing Call'     Then 'Open Time' \n",
    "     When Monitor.[Reason] = 'Meeting'           Then 'Coaching 1:1' \n",
    "     When Monitor.[Reason] = 'CTI Failure'       Then 'CTI Failure' \n",
    "     When Monitor.[Reason] = 'Break'             Then 'Break Offline' \n",
    "     When Monitor.[Reason] = 'Not Working Yet'   Then 'Not Working Yet' \n",
    "     When Monitor.[Reason] = 'New Hire Training' Then 'New Hire Training' \n",
    "     When Monitor.[Reason] = 'Training'          Then 'Training Offline'\n",
    "Else 'Other' End As [Current_Act],\n",
    "Monitor.[Direction] As [Current_Direction], Monitor.[Duration]*24 As [Current_Duration], COALESCE(ExtID.[Full name],EmpID.[Full name]) As [Full name], COALESCE(ExtID.[Role],EmpID.[Role]) As [Role], Roster.[Shift], Roster.[LOB], Leader.[TL_Name], Leader.[TL_MAIL]\n",
    "From Monitor\n",
    "Left Join EmpID  On Monitor.[Agent] = EmpID.[CUIC Name]\n",
    "Left Join ExtID  On Monitor.[Extension] = ExtID.[Extension Number]\n",
    "Left Join Roster On Date(Monitor.[DateTime]) = Roster.[Date] And EmpID.[Employee_ID] = Roster.[Emp ID]\n",
    "Left Join Leader On Roster.[TeamLead] = Leader.[Employee_ID]\n",
    "),\n",
    "\n",
    "---Setup WorkPlan---🛖\n",
    "WorkPlan AS (    \n",
    "--Import Workplan_RAW, Schedule_RAW, AGENTS_RAW 🤖\n",
    "WITH\n",
    "Workplan As (Select [Date_Act_Start] As [Date],[EID],[Action] As [WorkPlan_Act],[DateTime_Act_Start] As [Start],[DateTime_Act_End] As [End],[Act_Dur] As [WorkPlan_Dur] From Workplan_RAW),\n",
    "Info As (\n",
    "WITH\n",
    "Sched As (Select [Date],[Original_Shift] As [Shift],[LOB],[team_leader] As [TeamLead],[Emp ID],[Name] From Schedule_RAW),\n",
    "NameTL As (Select [Employee_ID],[TED Name] As [TL_Name],[cnx_email] As [TL_MAIL] From AGENTS_RAW)\n",
    "Select Sched.[Date],Sched.[Shift],Sched.[LOB],NameTL.[TL_MAIL],NameTL.[TL_Name],Sched.[Emp ID],Sched.[Name] From Sched\n",
    "Left join NameTL On Sched.[TeamLead] = NameTL.[Employee_ID] )\n",
    "--Run Workplan 📟\n",
    "Select \n",
    "Workplan.[Date],Info.[LOB],Info.[TL_MAIL],Info.[TL_Name] As [TeamLead],Workplan.[EID],Info.[Name],Info.[Shift],Workplan.[WorkPlan_Act],\n",
    "Datetime(Workplan.[Start]) As [WorkPlan_Start],Datetime(Workplan.[End]) As [WorkPlan_End],Workplan.[WorkPlan_Dur] \n",
    "From Workplan\n",
    "Left join Info On Workplan.[Date] = Info.[Date] And Workplan.[EID] = Info.[Emp ID]\n",
    "Where strftime(\"%Y\",Workplan.[Date]) >= '2024'\n",
    ")\n",
    "\n",
    "---Setup Monitor Screen---✨\n",
    "Select \n",
    "COALESCE(WorkPlan.[Date],Date(REALTIME_CUIC.[Actual Start])) As [Date], COALESCE(WorkPlan.[LOB],REALTIME_CUIC.[LOB]) As [LOB], COALESCE(WorkPlan.[TL_MAIL],REALTIME_CUIC.[TL_MAIL]) As [TL_MAIL], \n",
    "COALESCE(WorkPlan.[TeamLead],REALTIME_CUIC.[TL_Name]) As [TeamLead], COALESCE(WorkPlan.[EID],REALTIME_CUIC.[Employee_ID]) As [EID], COALESCE(WorkPlan.[Name],REALTIME_CUIC.[Full name]) As [Name], \n",
    "REALTIME_CUIC.[CUIC Name], REALTIME_CUIC.[Role], COALESCE(WorkPlan.[Shift],REALTIME_CUIC.[Shift]) As [Shift], WorkPlan.[WorkPlan_Act], WorkPlan.[WorkPlan_Start], WorkPlan.[WorkPlan_End], \n",
    "WorkPlan.[WorkPlan_Dur], REALTIME_CUIC.[Actual Start], REALTIME_CUIC.[Code_Starttime], REALTIME_CUIC.[Current_Act], REALTIME_CUIC.[Current_Duration], REALTIME_CUIC.[Current_State], REALTIME_CUIC.[Current_Direction],\n",
    "--Create Time in\n",
    "Datetime(Date(CASE WHEN COALESCE(WorkPlan.[Shift],REALTIME_CUIC.[Shift]) = '0000-0900' THEN Date(COALESCE(WorkPlan.[Date],Date(REALTIME_CUIC.[Actual Start])), '-1 day') ELSE COALESCE(WorkPlan.[Date],Date(REALTIME_CUIC.[Actual Start])) End),\n",
    "TIME(SUBSTR(COALESCE(WorkPlan.[Shift],REALTIME_CUIC.[Shift]),1,2)||':'||SUBSTR(COALESCE(WorkPlan.[Shift],REALTIME_CUIC.[Shift]),3,2)||':'||'00', '-5 Minutes')) AS [LOGGIN],\n",
    "--Create Time out\n",
    "Datetime(Date(CASE WHEN COALESCE(WorkPlan.[Shift],REALTIME_CUIC.[Shift]) IN ('1500-2400','1600-0100','1700-0200','1800-0300','1900-0400','2000-0500','2100-0600','2200-0700','2300-0800') THEN Date(COALESCE(WorkPlan.[Date],Date(REALTIME_CUIC.[Actual Start])), '+1 day') ELSE COALESCE(WorkPlan.[Date],Date(REALTIME_CUIC.[Actual Start])) END),\n",
    "TIME(SUBSTR(COALESCE(WorkPlan.[Shift],REALTIME_CUIC.[Shift]),6,2)||':'||SUBSTR(COALESCE(WorkPlan.[Shift],REALTIME_CUIC.[Shift]),8,2)||':'||'00', '+5 Minutes')) AS [LOGGOUT],\n",
    "/*    Setup scenario 📟                                                                                                                                                                          */\n",
    "/* 1. OverLunch: [Current_Duration] > 1.083 And [Current_Act] = 'Lunch'                                                                                                                          */\n",
    "(Case when REALTIME_CUIC.[Current_Duration] > 1.083 And REALTIME_CUIC.[Current_Act] = 'Lunch'           Then 'OverLunch,' Else '' End) ||\n",
    "/* 2. OverBreak: [Current_Duration] > 0.283 And [Current_Act] = 'Break Offline'                                                                                                                  */\n",
    "(Case when REALTIME_CUIC.[Current_Duration] > 0.283 And REALTIME_CUIC.[Current_Act] = 'Break Offline'   Then 'OverBreak,' Else '' End) ||\n",
    "/* 3. OverACW: [Current_Duration] > 0.066 And [Current_Act] = 'Not Working Yet'                                                                                                                  */\n",
    "(Case when REALTIME_CUIC.[Current_Duration] > 0.066 And REALTIME_CUIC.[Current_Act] = 'Not Working Yet' Then 'OverACW,'   Else '' End) ||\n",
    "/* 4. Off-Day_Login: Shift in ('OFF','AL','CO','SL','VGH') And [Current_Act] IN ('Email 1', 'Coaching 1:1', 'Training Offline', 'Open Time') And CURRENT_TIME > 10:0:0                           */\n",
    "(Case when COALESCE(WorkPlan.[Shift],REALTIME_CUIC.[Shift]) In ('OFF','AL','CO','SL','HO','VGH') \n",
    "       And REALTIME_CUIC.[Current_Act] In ('Email 1', 'Coaching 1:1', 'Training Offline', 'Open Time') \n",
    "       And TIME(CURRENT_TIME,'+7 Hours') > TIME('10'||':'||'00'||':'||'00') Then 'Off-Day_Login,'   Else '' End) ||\n",
    "/* 5. OutOfHoop: [WorkPlan_Act] is Null                                                                                                    */\n",
    "(Case When WorkPlan.[WorkPlan_Act] is Null\n",
    "/*And (REALTIME_CUIC.[Actual Start] Not Between \n",
    "--In\n",
    "Datetime(Date(CASE WHEN COALESCE(WorkPlan.[Shift],REALTIME_CUIC.[Shift]) = '0000-0900' THEN Date(COALESCE(WorkPlan.[Date],Date(REALTIME_CUIC.[Actual Start])), '-1 day') ELSE COALESCE(WorkPlan.[Date],Date(REALTIME_CUIC.[Actual Start])) End),\n",
    "TIME(SUBSTR(COALESCE(WorkPlan.[Shift],REALTIME_CUIC.[Shift]),1,2)||':'||SUBSTR(COALESCE(WorkPlan.[Shift],REALTIME_CUIC.[Shift]),3,2)||':'||'00', '-5 Minutes'))\n",
    "And\n",
    "--Out\n",
    "Datetime(Date(CASE WHEN COALESCE(WorkPlan.[Shift],REALTIME_CUIC.[Shift]) IN ('1500-2400','1600-0100','1700-0200','1800-0300','1900-0400','2000-0500','2100-0600','2200-0700','2300-0800') THEN Date(COALESCE(WorkPlan.[Date],Date(REALTIME_CUIC.[Actual Start])), '+1 day') ELSE COALESCE(WorkPlan.[Date],Date(REALTIME_CUIC.[Actual Start])) END),\n",
    "TIME(SUBSTR(COALESCE(WorkPlan.[Shift],REALTIME_CUIC.[Shift]),6,2)||':'||SUBSTR(COALESCE(WorkPlan.[Shift],REALTIME_CUIC.[Shift]),8,2)||':'||'00', '+5 Minutes'))) */\n",
    "Then 'OutOfHoop,' Else '' End) ||\n",
    "/* 6. DropCode: [Current_Act] = 'CTI Failure'                                                                                                                                                     */\n",
    "(Case when REALTIME_CUIC.[Current_Act] = 'CTI Failure' Then 'DropCode,'   Else '' End) ||\n",
    "/* 7. WrongTrack: [Current_Act] <> [WorkPlan_Act] And [Workplan_Act] IN ('Email 1', 'Coaching 1:1', 'Training Offline', 'Open Time')\n",
    "            Note: [Current_State] In ('Ready','Work Ready','Hold') And [Current_Act] = 'NONE' Consider as 'Open Time'\n",
    "                  [LOB] = 'EN' And [WorkPlan_Act] = 'Open time' And [Current_Act] =  'Email 1' Consider as Valid                                                                                  */\n",
    "(Case when REALTIME_CUIC.[Current_State] In ('Ready','Work Ready','Hold') And REALTIME_CUIC.[Current_Act] = 'NONE' And WorkPlan.[WorkPlan_Act] = 'Open Time' Then ''\n",
    "      When COALESCE(WorkPlan.[LOB],REALTIME_CUIC.[LOB]) = 'EN' And WorkPlan.[WorkPlan_Act] = 'Open Time' And REALTIME_CUIC.[Current_Act] =  'Email 1' Then ''\n",
    "      when REALTIME_CUIC.[Current_Act] <> WorkPlan.[WorkPlan_Act]  And WorkPlan.[WorkPlan_Act] In ('Email 1', 'Coaching 1:1', 'Training Offline', 'Open Time') Then 'WrongTrack' Else '' End) As [WFM_NOTE]\n",
    "From WorkPlan\n",
    "Full join REALTIME_CUIC On WorkPlan.[EID] = REALTIME_CUIC.[Employee_ID] And (REALTIME_CUIC.[Actual Start] BETWEEN WorkPlan.[WorkPlan_Start] AND WorkPlan.[WorkPlan_End])\n",
    "Where REALTIME_CUIC.[Actual Start] Is Not Null And REALTIME_CUIC.[Role] = 'Agent'\n",
    "Order by COALESCE(WorkPlan.[Shift],REALTIME_CUIC.[Shift]) Desc\n",
    "\n",
    "    \"\"\"\n",
    "MONITOR_DF = pl.read_database(query=query, connection=conn.connect(), infer_schema_length=None)\n",
    "\n",
    "#Edit Column\n",
    "MONITOR_DF = MONITOR_DF.filter(pl.col(\"WFM_NOTE\") != \"\")\n",
    "MONITOR_DF = MONITOR_DF.select(['Date','LOB','TL_MAIL','TeamLead','EID','Name','CUIC Name','Shift','WorkPlan_Act','WorkPlan_Start','WorkPlan_End','Actual Start','Current_Act','Current_Duration','WFM_NOTE'])\n",
    "\n",
    "# Export to CSV\n",
    "os.chdir(DF_MONITOR_DF)\n",
    "MONITOR_DF_CSV = MONITOR_DF.write_excel(\"BKN_MONITOR_DF.xlsx\")\n",
    "\n",
    "#RUN\n",
    "MONITOR_DF_CSV\n",
    "MONITOR_DF.sample(n=3)"
   ]
  },
  {
   "cell_type": "code",
   "execution_count": null,
   "id": "fa740583-711f-49ca-9e2e-b73cb90199d6",
   "metadata": {},
   "outputs": [],
   "source": []
  }
 ],
 "metadata": {
  "kernelspec": {
   "display_name": "Python 3 (ipykernel)",
   "language": "python",
   "name": "python3"
  },
  "language_info": {
   "codemirror_mode": {
    "name": "ipython",
    "version": 3
   },
   "file_extension": ".py",
   "mimetype": "text/x-python",
   "name": "python",
   "nbconvert_exporter": "python",
   "pygments_lexer": "ipython3",
   "version": "3.12.3"
  }
 },
 "nbformat": 4,
 "nbformat_minor": 5
}
